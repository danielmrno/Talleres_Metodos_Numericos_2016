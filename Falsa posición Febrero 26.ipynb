{
 "cells": [
  {
   "cell_type": "markdown",
   "metadata": {},
   "source": [
    "# Falsa posicion"
   ]
  },
  {
   "cell_type": "code",
   "execution_count": 1,
   "metadata": {
    "collapsed": false
   },
   "outputs": [
    {
     "name": "stdout",
     "output_type": "stream",
     "text": [
      "xl    xu    xr\n",
      "12.0   16.0   14.9113031791\n",
      "12.0   14.9113031791   14.7941927833\n",
      "12.0   14.7941927833   14.7816953379\n",
      "12.0   14.7816953379   14.780362843\n",
      "12.0   14.780362843   14.7802207839\n",
      "12.0   14.7802207839   14.7802056389\n",
      "12.0   14.7802056389   14.7802040243\n",
      "12.0   14.7802040243   14.7802038522\n",
      "12.0   14.7802038522   14.7802038339\n",
      "12.0   14.7802038339   14.7802038319\n",
      "12.0   14.7802038319   14.7802038317\n",
      "12.0   14.7802038317   14.7802038317\n",
      "12.0   14.7802038317   14.7802038317\n",
      "12.0   14.7802038317   14.7802038317\n",
      "12.0   14.7802038317   14.7802038317\n",
      "12.0   14.7802038317   14.7802038317\n"
     ]
    }
   ],
   "source": [
    "import math\n",
    "import numpy as np\n",
    "import pylab as pl\n",
    "valoresx = []\n",
    "valoresy = []\n",
    "valoresejex=[]\n",
    "valoresejey=[]\n",
    "o=[]\n",
    "ok=[]\n",
    "\n",
    "g=9.8\n",
    "m=68.1\n",
    "t=10\n",
    "v=40\n",
    "xl=12.0\n",
    "xu=16.0\n",
    "print \"xl    xu    xr\"\n",
    "def f(c):\n",
    "    return ((g*m/c)*(1-math.exp(-(c/m)*t)))-v\n",
    "def fxr(xl,xu):\n",
    "    return xu-((f(xu)*(xl-xu))/(f(xl)-f(xu)))\n",
    "if((f(xl)*f(xu))<0):\n",
    "    xr=fxr(xl,xu)\n",
    "print xl,\" \",xu,\" \",xr\n",
    "aux=0\n",
    "while((f(xl)*f(xr))!=0):\n",
    "    if((f(xl)*f(xr))<0):\n",
    "        xu=xr\n",
    "        xr=fxr(xl,xu)\n",
    "        print xl,\" \",xu,\" \",xr\n",
    "        \n",
    "    else:\n",
    "        if((f(xl)*f(xr))>0):\n",
    "            xl=xr\n",
    "            xr=fxr(xl,xu)\n",
    "            print xl,\" \",xu,\" \",xr\n",
    "\n",
    "x=12        \n",
    "i=0\n",
    "while(i<=20):\n",
    "    valoresejex.append(i)\n",
    "    valoresejey.append(0)\n",
    "    i+=1\n",
    "while(x<=16):\n",
    "    valoresx.append(x)\n",
    "    valoresy.append(f(x))\n",
    "    x=x+0.01\n",
    "    \n",
    "o.append(0)   \n",
    "ok.append(xr )   \n",
    "            \n",
    "f1=  pl.plot(valoresx,valoresy,\"g\")\n",
    "f2=  pl.plot(valoresejex,valoresejey,\"k\")\n",
    "f3=  pl.plot(ok,o,\".\")\n",
    "\n",
    "\n",
    "pl.title(\"Paracaidista Falsa Posicion\")\n",
    "pl.xlabel(\"c\")\n",
    "pl.ylabel(\"f(c)\")\n",
    "f=[\"Funcion\"]\n",
    "pl.legend(f,loc=4)\n",
    "pl.xlim(11,17)\n",
    "pl.ylim(-4, 7)\n",
    "pl.grid(True)\n",
    "\n",
    "pl.show()"
   ]
  }
 ],
 "metadata": {
  "kernelspec": {
   "display_name": "Python 2",
   "language": "python",
   "name": "python2"
  },
  "language_info": {
   "codemirror_mode": {
    "name": "ipython",
    "version": 2
   },
   "file_extension": ".py",
   "mimetype": "text/x-python",
   "name": "python",
   "nbconvert_exporter": "python",
   "pygments_lexer": "ipython2",
   "version": "2.7.10"
  }
 },
 "nbformat": 4,
 "nbformat_minor": 0
}
