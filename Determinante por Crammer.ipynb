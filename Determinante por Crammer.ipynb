{
 "cells": [
  {
   "cell_type": "code",
   "execution_count": 1,
   "metadata": {
    "collapsed": false
   },
   "outputs": [
    {
     "name": "stdout",
     "output_type": "stream",
     "text": [
      "Digite el valor de X11 :1\n",
      "Digite el valor de X12 :2\n",
      "Digite el valor de X13 :1\n",
      "Digite el valor de X21 :3\n",
      "Digite el valor de X22 :4\n",
      "Digite el valor de X23 :3\n",
      "Digite el valor de X31 :-2\n",
      "Digite el valor de X32 :2\n",
      "Digite el valor de X33 :-4\n",
      "Digite el valor de 1 :15\n",
      "Digite el valor de 2 :18\n",
      "Digite el valor de 3 :3\n",
      "Determinante : 4\n",
      "variable 0 es :-36\n",
      "variable 1 es :13\n",
      "variable 2 es :0\n"
     ]
    }
   ],
   "source": [
    "import math\n",
    "valores=[]\n",
    "valores2=[]\n",
    "valor=[]\n",
    "def det(x):\n",
    "    x=(valores[0]*((valores[4]*valores[8])-(valores[7]*valores[5])))\n",
    "    x1=(valores[1]*((valores[3]*valores[8])-(valores[6]*valores[5])))\n",
    "    x2=(valores[2]*((valores[3]*valores[7])-(valores[4]*valores[6])))\n",
    "    l=x-x1+x2\n",
    "    return l\n",
    "def reecribir(lo):\n",
    "    valores[lo]=valor[0]\n",
    "    lo=lo+3\n",
    "    valores[lo]=valor[1]\n",
    "    lo=lo+3\n",
    "    valores[lo]=valor[2]\n",
    "    return l\n",
    "\n",
    "for i in [1, 2,3]:\n",
    "    for j in [1, 2, 3]:\n",
    "        n=int(input(\"Digite el valor de X\"+str(i)+\"\"+str(j)+\" :\"))\n",
    "        valores.append(n)\n",
    "        valores2.append(n)\n",
    "for i in [1, 2, 3]:\n",
    "    n=int(input(\"Digite el valor de \"+str(i)+\" :\"))\n",
    "    valor.append(n)\n",
    "    \n",
    "l=det(valores)\n",
    "print \"Determinante : \"+str(l)\n",
    "for i in [0, 1, 2]:\n",
    "    reecribir(i)\n",
    "    p=det(valores)/l\n",
    "    valores=valores2\n",
    "    print \"variable \"+str(i)+\" es :\"+str(p)"
   ]
  }
 ],
 "metadata": {
  "kernelspec": {
   "display_name": "Python 2",
   "language": "python",
   "name": "python2"
  },
  "language_info": {
   "codemirror_mode": {
    "name": "ipython",
    "version": 2
   },
   "file_extension": ".py",
   "mimetype": "text/x-python",
   "name": "python",
   "nbconvert_exporter": "python",
   "pygments_lexer": "ipython2",
   "version": "2.7.11"
  }
 },
 "nbformat": 4,
 "nbformat_minor": 0
}
