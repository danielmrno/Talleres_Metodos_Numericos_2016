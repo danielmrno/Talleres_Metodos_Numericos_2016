{
 "cells": [
  {
   "cell_type": "markdown",
   "metadata": {},
   "source": [
    "# Ejercicio 5.3"
   ]
  },
  {
   "cell_type": "code",
   "execution_count": 1,
   "metadata": {
    "collapsed": false
   },
   "outputs": [
    {
     "data": {
      "image/png": "[encoded data removed]",
      "text/plain": [
       "<matplotlib.figure.Figure at 0x105823fd0>"
      ]
     },
     "metadata": {},
     "output_type": "display_data"
    },
    {
     "name": "stdout",
     "output_type": "stream",
     "text": [
      "\n",
      "Por biseccion tenemos que:\n",
      "\n",
      "  Biseccion  Er porcentual verdadero    aprox\n",
      "-----------  -------------------------  -----------------\n",
      "   0.75      29.4422420087 %            ----- %\n",
      "   0.625     7.86853500722 %            20.0 %\n",
      "   0.5625    2.9183184935 %             11.1111111111 %\n",
      "   0.59375   2.47510825686 %            5.26315789474 %\n",
      "   0.578125  0.221605118319 %           2.7027027027 %\n",
      "   0.585938  1.12675156927 %            1.33333333333 %\n",
      "   0.582031  0.452573225476 %           0.671140939597 %\n",
      "   0.580078  0.115484053579 %           0.3367003367 %\n",
      "   0.579102  0.05306053237 %            0.168634064081 %\n",
      "   0.57959   0.0312117606043 %          0.0842459983151 %\n",
      "\n",
      "Por falsa posicion tenemos que:\n",
      "\n",
      "  Falsa Posicion  Er porcentual verdadero    aprox\n",
      "----------------  -------------------------  -----------------\n",
      "        0.642728  10.9281735983 %            ----- %\n",
      "        0.588017  1.48568162954 %            9.30426028293 %\n",
      "        0.580537  0.194654241408 %           1.28851923079 %\n",
      "        0.579556  0.0254134146364 %          0.169197827826 %\n",
      "        0.579428  0.00336015700756 %         0.0220525166297 %\n",
      "        0.579412  0.00048873081868 %         0.0028714121554 %\n"
     ]
    }
   ],
   "source": [
    "import math\n",
    "import matplotlib.pyplot as plt\n",
    "from tabulate import tabulate\n",
    "%matplotlib inline \n",
    "\n",
    "fA, fB, f1, f2, f3=1.0, 1.0, 1.0,1.0,1.0\n",
    "xl, xu, xr, xl2, xu2, xr2=0.5,1.0,0.0,0.5,1.0,0.0\n",
    "a=0\n",
    "raices, aprox, tabla1, valores,array, raices2,aprox, aprox2, tabla2=[],[],[],[],[],[],[],[],[]\n",
    "Es=0.1\n",
    "Es2=0.02\n",
    "xVerd=0.579409\n",
    "cont=-15\n",
    "\n",
    "while(cont<=15):\n",
    "    fxG=-25+82*cont-90*(math.pow(cont,2))+44*(math.pow(cont,3))-8*(math.pow(cont,4))+0.7*(math.pow(cont,5))\n",
    "    valores.append(cont)\n",
    "    array.append(fxG)\n",
    "    cont+=1\n",
    "    \n",
    "def metodo1(x):\n",
    "    fx=-25+82*x-90*(math.pow(x,2))+44*(math.pow(x,3))-8*(math.pow(x,4))+0.7*(math.pow(x,5))\n",
    "    return fx\n",
    "\n",
    "while 1:\n",
    "    xr=(xl+xu)/2\n",
    "    raices.append(xr)\n",
    "    fA=metodo1(xl)\n",
    "    fB=metodo1(xr)\n",
    "    erpv=math.fabs(((xVerd-xr)/xVerd)*100)\n",
    "    if(a==0):\n",
    "        aprox.append(\"-----\")\n",
    "        eaprx=100\n",
    "    else:\n",
    "        j=a-1\n",
    "        eaprx=math.fabs(((raices[a]-raices[j])/raices[a])*100)\n",
    "        aprox.append(eaprx)\n",
    "    tabla1.append([xr,  str(erpv)+\" %\", str(aprox[a])+\" %\"])\n",
    "    if ((fA*fB)<0):\n",
    "        xu=xr\n",
    "    if((fA*fB)>0):\n",
    "         xl=xr\n",
    "    a+=1\n",
    "    if(eaprx<Es):\n",
    "        break\n",
    "b=0\n",
    "while 1:\n",
    "    f1=metodo1(xl2)\n",
    "    f2=metodo1(xu2)\n",
    "    xr2=xu2-(f2*(xl2-xu2))/(f1-f2)\n",
    "    raices2.append(xr2)\n",
    "    f3=metodo1(xr2)\n",
    "    erpv2=math.fabs(((xVerd-xr2)/xVerd)*100)\n",
    "    if(b==0):\n",
    "        aprox2.append(\"-----\")\n",
    "        eaprx2=100\n",
    "    else:\n",
    "        k=b-1\n",
    "        eaprx2=math.fabs(((raices2[b]-raices2[k])/raices2[b])*100)\n",
    "        aprox2.append(eaprx2)\n",
    "    tabla2.append([xr2, str(erpv2)+\" %\", str(aprox2[b])+\" %\"])\n",
    "    if ((f1*f3)<0):\n",
    "        xu2=xr2\n",
    "    if((f1*f3)>0):\n",
    "         xl2=xr2\n",
    "    if(eaprx2<Es2):\n",
    "        break    \n",
    "    b+=1\n",
    "    \n",
    "plt.title(\"f(x)\")\n",
    "plt.axis([-15, 15, -50000, 50000])\n",
    "plt.ylabel('f(x)')\n",
    "plt.xlabel('x')\n",
    "plt.axhline(0, color=\"black\")\n",
    "plt.plot(valores, array, 'b-', linewidth=2)\n",
    "plt.plot(xVerd,0, '*', label='Raiz Exacta=0.579409')\n",
    "plt.legend(loc = 'upper left', numpoints = 1)\n",
    "plt.show()\n",
    "\n",
    "print \"\\nPor biseccion tenemos que:\\n\"\n",
    "print tabulate(tabla1, headers=[\"Biseccion\", \"Er porcentual verdadero\", \"aprox\"])\n",
    "print \"\\nPor falsa posicion tenemos que:\\n\"\n",
    "print tabulate(tabla2, headers=[\"Falsa Posicion\", \"Er porcentual verdadero\", \"aprox\"])"
   ]
  },
  {
   "cell_type": "markdown",
   "metadata": {},
   "source": [
    "# Ejercicio 5.4\n"
   ]
  },
  {
   "cell_type": "code",
   "execution_count": 2,
   "metadata": {
    "collapsed": false
   },
   "outputs": [
    {
     "data": {
      "image/png": "[encoded data removed]",
      "text/plain": [
       "<matplotlib.figure.Figure at 0x104091110>"
      ]
     },
     "metadata": {},
     "output_type": "display_data"
    },
    {
     "name": "stdout",
     "output_type": "stream",
     "text": [
      "|      Raiz | Er porc verd    | aprox              |\n",
      "|----------:|:----------------|:-------------------|\n",
      "| -0.287425 | 31.4601829713 % | ----- %            |\n",
      "| -0.379449 | 9.51606378962 % | 24.2519502364 %    |\n",
      "| -0.405232 | 3.36776109117 % | 6.36257916392 %    |\n",
      "| -0.412173 | 1.71256344116 % | 1.68403786686 %    |\n",
      "| -0.414022 | 1.27182454032 % | 0.446416535893 %   |\n",
      "| -0.414512 | 1.15481059907 % | 0.118381017798 %   |\n",
      "| -0.414642 | 1.12376823806 % | 0.0313951699501 %  |\n",
      "| -0.414677 | 1.11553478731 % | 0.00832633390661 % |\n"
     ]
    }
   ],
   "source": [
    "import math\n",
    "import matplotlib.pyplot as plt\n",
    "from tabulate import tabulate\n",
    "%matplotlib inline\n",
    "\n",
    "true=-0.419355\n",
    "valores,funcion,raices, tabla, aprox=[],[],[],[],[]\n",
    "x=-4\n",
    "f1,f2,f3=1.0,1.0,1.0\n",
    "xl, xu, xr=-1.0,0.0,0.0\n",
    "Es=0.01\n",
    "\n",
    "while(x<=7):\n",
    "    fx=-12-21*x+18*math.pow(x,2)-2.75*math.pow(x,3)\n",
    "    valores.append(x)\n",
    "    funcion.append(fx)\n",
    "    x+=0.1\n",
    "\n",
    "def metodo1(x):\n",
    "    fx=-12-21*x+18*math.pow(x,2)-2.75*math.pow(x,3)\n",
    "    return fx\n",
    "\n",
    "b=0\n",
    "while 1:\n",
    "    f1=metodo1(xl)\n",
    "    f2=metodo1(xu)\n",
    "    xr=xu-(f2*(xl-xu))/(f1-f2)\n",
    "    raices.append(xr)\n",
    "    f3=metodo1(xr)\n",
    "    erpv=math.fabs(((true-xr)/true)*100)\n",
    "    if(b==0):\n",
    "        aprox.append(\"-----\")\n",
    "        eaprx=100\n",
    "    else:\n",
    "        k=b-1\n",
    "        eaprx=math.fabs(((raices[b]-raices[k])/raices[b])*100)\n",
    "        aprox.append(eaprx)\n",
    "    tabla.append([xr, str(erpv)+\" %\", str(aprox[b])+\" %\"])\n",
    "    if ((f1*f3)<0):\n",
    "        xu=xr\n",
    "    if((f1*f3)>0):\n",
    "         xl=xr\n",
    "    if(eaprx<Es):\n",
    "        break    \n",
    "    b+=1    \n",
    "\n",
    "plt.title(\"f(x)\")\n",
    "plt.axis([-4, 8, -200, 200])\n",
    "plt.ylabel('f(x)')\n",
    "plt.xlabel('x')\n",
    "plt.axhline(0, color=\"black\")\n",
    "plt.plot(valores, funcion, 'g-', linewidth=2)\n",
    "plt.plot(true,0, 'co', label='Raiz Exacta=-0.419355')\n",
    "plt.legend(loc = 'upper right', numpoints = 1)\n",
    "plt.show()\n",
    "\n",
    "print tabulate(tabla, headers=[\"Raiz\",\"Er porc verd\",\"aprox\"], tablefmt=\"pipe\")"
   ]
  },
  {
   "cell_type": "code",
   "execution_count": null,
   "metadata": {
    "collapsed": true
   },
   "outputs": [],
   "source": []
  }
 ],
 "metadata": {
  "kernelspec": {
   "display_name": "Python 2",
   "language": "python",
   "name": "python2"
  },
  "language_info": {
   "codemirror_mode": {
    "name": "ipython",
    "version": 2
   },
   "file_extension": ".py",
   "mimetype": "text/x-python",
   "name": "python",
   "nbconvert_exporter": "python",
   "pygments_lexer": "ipython2",
   "version": "2.7.11"
  }
 },
 "nbformat": 4,
 "nbformat_minor": 0
}
