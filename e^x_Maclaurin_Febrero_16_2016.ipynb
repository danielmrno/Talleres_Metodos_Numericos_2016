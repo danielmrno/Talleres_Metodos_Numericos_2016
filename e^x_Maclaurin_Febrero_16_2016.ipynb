{
 "cells": [
  {
   "cell_type": "markdown",
   "metadata": {},
   "source": [
    "# e^x donde x=1/2 por serie de Maclaurin"
   ]
  },
  {
   "cell_type": "code",
   "execution_count": 2,
   "metadata": {
    "collapsed": false
   },
   "outputs": [
    {
     "name": "stdout",
     "output_type": "stream",
     "text": [
      "Termino   e^x aprox   Et             Ea\n",
      "    1      1.0        64.87212707      xxxxx\n",
      "    2      1.5        9.91475138001      33.3333333333\n",
      "    3      1.625        1.45977050462      7.69230769231\n",
      "    4      1.64583333333        0.17546961216      1.26582278481\n",
      "    5      1.6484375        0.0172145258846      0.157977883096\n",
      "    6      1.64869791667        0.00141651379707      0.0157952930027\n"
     ]
    }
   ],
   "source": [
    "import math\n",
    "n=3\n",
    "es=0.5*(10**(2-n))\n",
    "x=0.5\n",
    "aux=0\n",
    "termino=1\n",
    "verdadero=math.exp(x)\n",
    "ant=-1\n",
    "ea=100\n",
    "valor=0\n",
    "print \"Termino   e^x aprox   Et             Ea\"\n",
    "def f(x):\n",
    "    return (x**aux)/(math.factorial(aux))\n",
    "while (ea>=es):\n",
    "    valor+=f(x)\n",
    "    et=((verdadero-valor)/valor)*100\n",
    "    if(ant<0):\n",
    "        ea=\"xxxxx\"\n",
    "    if(ant>=0):\n",
    "        ea=((valor-ant)/valor)*100\n",
    "    ant=valor\n",
    "    print \"   \",termino,\"    \", valor,\"      \",et,\"    \",ea\n",
    "    aux+=1\n",
    "    termino+=1\n",
    "\n"
   ]
  },
  {
   "cell_type": "code",
   "execution_count": null,
   "metadata": {
    "collapsed": true
   },
   "outputs": [],
   "source": []
  }
 ],
 "metadata": {
  "kernelspec": {
   "display_name": "Python 2",
   "language": "python",
   "name": "python2"
  },
  "language_info": {
   "codemirror_mode": {
    "name": "ipython",
    "version": 2
   },
   "file_extension": ".py",
   "mimetype": "text/x-python",
   "name": "python",
   "nbconvert_exporter": "python",
   "pygments_lexer": "ipython2",
   "version": "2.7.10"
  }
 },
 "nbformat": 4,
 "nbformat_minor": 0
}
