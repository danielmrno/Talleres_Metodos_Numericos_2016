{
 "cells": [
  {
   "cell_type": "markdown",
   "metadata": {},
   "source": [
    "# Ejercicio 3.5   e^-5"
   ]
  },
  {
   "cell_type": "code",
   "execution_count": null,
   "metadata": {
    "collapsed": false
   },
   "outputs": [],
   "source": [
    "import math\n",
    "x=-5.0\n",
    "aux=0.0\n",
    "termino=1\n",
    "verdadero=math.exp(x)\n",
    "ant=\"x\"\n",
    "ea=100\n",
    "valor=0.0\n",
    "print \"Termino   e^x aprox   Et             Ea\"\n",
    "def f(x):\n",
    "    return (x**aux)/(math.factorial(aux))\n",
    "while (termino<=20):\n",
    "    valor+=f(x)\n",
    "    if(valor==0):\n",
    "        et=((verdadero-valor)/0.0000001)*100\n",
    "    if(valor!=0):\n",
    "        et=((verdadero-valor)/valor)*100\n",
    "    if(ant==\"x\"):\n",
    "        ea=\"xxxxx\"\n",
    "    if(ant!=\"x\"):\n",
    "        if(valor==0):\n",
    "            ea=((valor-ant)/0.0000001)*100\n",
    "        if(valor!=0):\n",
    "            ea=((valor-ant)/valor)*100\n",
    "    ant=valor\n",
    "    print \"   \",termino,\"    \", valor,\"      \",et,\"    \",ea\n",
    "    aux+=1\n",
    "    termino+=1\n",
    "print \"   \"\n",
    "print \"\"\n",
    "x=5\n",
    "aux=0.0\n",
    "termino=1\n",
    "verdadero=1/math.exp(x)\n",
    "ant=-1\n",
    "ea=100\n",
    "valor=0.0\n",
    "den=0\n",
    "def f(x):\n",
    "    return ((x**aux)/(math.factorial(aux)))\n",
    "while (termino<=20):\n",
    "   \n",
    "    den+=f(x)\n",
    "    valor=1/den\n",
    "    et=((verdadero-valor)/valor)*100\n",
    "    if(ant<0):\n",
    "        ea=\"xxxxx\"\n",
    "    if(ant>=0):\n",
    "        ea=((valor-ant)/valor)*100\n",
    "    ant=valor\n",
    "    print \"   \",termino,\"    \", valor,\"      \",et,\"    \",ea\n",
    "    aux+=1\n",
    "    termino+=1\n",
    "    \n"
   ]
  },
  {
   "cell_type": "markdown",
   "metadata": {
    "collapsed": true
   },
   "source": [
    "# Ejercicio 3.7"
   ]
  },
  {
   "cell_type": "code",
   "execution_count": null,
   "metadata": {
    "collapsed": true
   },
   "outputs": [],
   "source": []
  }
 ],
 "metadata": {
  "kernelspec": {
   "display_name": "Python 2",
   "language": "python",
   "name": "python2"
  },
  "language_info": {
   "codemirror_mode": {
    "name": "ipython",
    "version": 2
   },
   "file_extension": ".py",
   "mimetype": "text/x-python",
   "name": "python",
   "nbconvert_exporter": "python",
   "pygments_lexer": "ipython2",
   "version": "2.7.10"
  }
 },
 "nbformat": 4,
 "nbformat_minor": 0
}
