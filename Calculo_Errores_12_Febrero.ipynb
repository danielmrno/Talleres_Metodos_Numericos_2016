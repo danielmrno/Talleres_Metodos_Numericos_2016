{
 "cells": [
  {
   "cell_type": "code",
   "execution_count": null,
   "metadata": {
    "collapsed": false
   },
   "outputs": [],
   "source": [
    "import math\n",
    "import numpy as np\n",
    "import pylab as pl\n",
    "valoresx1 = []\n",
    "valoresy1 = []\n",
    "valoresx = []\n",
    "valoresy = []\n",
    "rel = []\n",
    "aprox=[]\n",
    "\n",
    "g=9.8\n",
    "t=0\n",
    "m=68.1\n",
    "c=12.5\n",
    "print \"t     Analitica     Metodos   Error verdadero   Error Relativo  Error Aproximado\"\n",
    "def v(t):\n",
    "    return ((g*m/c)*(1-math.exp(-(c/m)*t)))\n",
    "while (t<40):\n",
    "    valoresx1.append(t)\n",
    "    valoresy1.append(v(t))\n",
    "    t=t+1\n",
    "ti=0\n",
    "aux=2\n",
    "ti1=ti+aux\n",
    "vt=0\n",
    "ant=-1\n",
    "def vmn(ti,ti1):\n",
    "    return vt+(g-(c/m)*vt)*(ti1-ti)\n",
    "while (ti<40):\n",
    "    valoresx.append(ti)\n",
    "    valoresy.append(vt)\n",
    "    verdadero=v(ti)-vt\n",
    "    if(vt==0):\n",
    "        relativo=(verdadero/0.000000001)*100\n",
    "    if(vt!=0):\n",
    "        relativo=(verdadero/vt)*100\n",
    "    rel.append(-1*(relativo))\n",
    "    if(vt==0):\n",
    "        aproximado=((vt-ant)/0.000000001)*100\n",
    "    if(vt!=0):\n",
    "        aproximado=((vt-ant)/vt)*100\n",
    "    if(ant<0):\n",
    "        aproximado=\"xxxx\"\n",
    "        aprox.append(100)\n",
    "    if(ant>=0):\n",
    "        aprox.append(aproximado)\n",
    "    \n",
    "    print ti,\" \",v(ti),\" \",vt, \" \",verdadero,\" \",relativo,\" \",aproximado\n",
    "    ant=vt\n",
    "    vt=vmn(ti,ti1)\n",
    "    ti=ti+aux\n",
    "    ti1+=aux\n",
    "    \n",
    "\n",
    "f1= pl.plot(valoresx,rel,\"b\")\n",
    "f2= pl.plot(valoresx,aprox,\"g\")\n",
    "\n",
    "pl.title(\"Paracaidista\")\n",
    "pl.xlabel(\"x\")\n",
    "pl.ylabel(\"y\")\n",
    "f=[\"Error relativo porcentual verdadero\",\"Error relativo porcentual aproximado\"]\n",
    "pl.legend(f,loc=1)\n",
    "pl.xlim(0, 40)\n",
    "pl.ylim(0, 110)\n",
    "pl.grid(True)\n",
    "\n",
    "pl.show()"
   ]
  },
  {
   "cell_type": "code",
   "execution_count": null,
   "metadata": {
    "collapsed": true
   },
   "outputs": [],
   "source": []
  },
  {
   "cell_type": "code",
   "execution_count": null,
   "metadata": {
    "collapsed": true
   },
   "outputs": [],
   "source": []
  }
 ],
 "metadata": {
  "kernelspec": {
   "display_name": "Python 2",
   "language": "python",
   "name": "python2"
  },
  "language_info": {
   "codemirror_mode": {
    "name": "ipython",
    "version": 2
   },
   "file_extension": ".py",
   "mimetype": "text/x-python",
   "name": "python",
   "nbconvert_exporter": "python",
   "pygments_lexer": "ipython2",
   "version": "2.7.10"
  }
 },
 "nbformat": 4,
 "nbformat_minor": 0
}
