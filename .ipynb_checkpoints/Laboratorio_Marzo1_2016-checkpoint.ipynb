{
 "cells": [
  {
   "cell_type": "markdown",
   "metadata": {},
   "source": [
    "# Biseccion"
   ]
  },
  {
   "cell_type": "code",
   "execution_count": null,
   "metadata": {
    "collapsed": false
   },
   "outputs": [],
   "source": [
    "import math\n",
    "import numpy as np\n",
    "import pylab as pl\n",
    "print \"xl    xu    xr\"\n",
    "xl=1.0\n",
    "xu=2.0\n",
    "xr=0.0\n",
    "print xl,\" \",xu,\" \",fxr(xl,xu)\n",
    "def f(x):\n",
    "    return (math.exp(-x))-x\n",
    "def fxr(xl,xu):\n",
    "    return (xl+xu)/2\n",
    "if((f(xl)*f(xu))<0):\n",
    "    xr=fxr(xl,xu)\n",
    "aux=0\n",
    "while((f(xl)*f(xr))!=0):\n",
    "    if((f(xl)*f(xr))<0):\n",
    "        xu=xr\n",
    "        xr=fxr(xl,xu)\n",
    "        print xl,\" \",xu,\" \",xr\n",
    "        \n",
    "    else:\n",
    "        if((f(xl)*f(xr))>0):\n",
    "            xl=xr\n",
    "            xr=fxr(xl,xu)\n",
    "            print xl,\" \",xu,\" \",xr\n"
   ]
  },
  {
   "cell_type": "markdown",
   "metadata": {},
   "source": [
    "# falsa Posicion"
   ]
  },
  {
   "cell_type": "code",
   "execution_count": null,
   "metadata": {
    "collapsed": false
   },
   "outputs": [],
   "source": [
    "import math\n",
    "import numpy as np\n",
    "import pylab as pl\n",
    "print \"xl    xu    xr\"\n",
    "xl=1.0\n",
    "xu=2.0\n",
    "xr=0.0\n",
    "print xl,\" \",xu,\" \",fxr(xl,xu)\n",
    "def f(x):\n",
    "    return (math.exp(-x))-x\n",
    "def fxr(xl,xu):\n",
    "    return xu-((f(xu)*(xl-xu))/(f(xl)-f(xu)))\n",
    "if((f(xl)*f(xu))<0):\n",
    "    xr=fxr(xl,xu)\n",
    "aux=0\n",
    "while((f(xl)*f(xr))!=0):\n",
    "    if((f(xl)*f(xr))<0):\n",
    "        xu=xr\n",
    "        xr=fxr(xl,xu)\n",
    "        print xl,\" \",xu,\" \",xr\n",
    "        \n",
    "    else:\n",
    "        if((f(xl)*f(xr))>0):\n",
    "            xl=xr\n",
    "            xr=fxr(xl,xu)\n",
    "            print xl,\" \",xu,\" \",xr\n",
    "\n"
   ]
  },
  {
   "cell_type": "markdown",
   "metadata": {},
   "source": [
    "# Punto Fijo"
   ]
  },
  {
   "cell_type": "code",
   "execution_count": 3,
   "metadata": {
    "collapsed": false
   },
   "outputs": [
    {
     "name": "stdout",
     "output_type": "stream",
     "text": [
      "0 0\n",
      "1 1.0\n",
      "2 0.367879441171\n",
      "3 0.692200627555\n",
      "4 0.500473500564\n",
      "5 0.606243535086\n",
      "6 0.545395785975\n",
      "7 0.579612335503\n",
      "8 0.560115461361\n",
      "9 0.57114311508\n",
      "10 0.564879347391\n"
     ]
    }
   ],
   "source": [
    "import math\n",
    "def f(x):\n",
    "    return (math.exp(-x))-x\n",
    "def gx(x):\n",
    "    return (math.exp(-x))\n",
    "it=0\n",
    "x=0\n",
    "while(it<=10):\n",
    "    print it, x\n",
    "    x1=gx(x)\n",
    "    x=gx(x)\n",
    "    it+=1\n",
    "    \n",
    "\n"
   ]
  },
  {
   "cell_type": "code",
   "execution_count": null,
   "metadata": {
    "collapsed": true
   },
   "outputs": [],
   "source": []
  }
 ],
 "metadata": {
  "kernelspec": {
   "display_name": "Python 2",
   "language": "python",
   "name": "python2"
  },
  "language_info": {
   "codemirror_mode": {
    "name": "ipython",
    "version": 2
   },
   "file_extension": ".py",
   "mimetype": "text/x-python",
   "name": "python",
   "nbconvert_exporter": "python",
   "pygments_lexer": "ipython2",
   "version": "2.7.10"
  }
 },
 "nbformat": 4,
 "nbformat_minor": 0
}
