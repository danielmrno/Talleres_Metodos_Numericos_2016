{
 "cells": [
  {
   "cell_type": "markdown",
   "metadata": {},
   "source": [
    "# Ejercicio 3.5   e^-5"
   ]
  },
  {
   "cell_type": "code",
   "execution_count": 1,
   "metadata": {
    "collapsed": false
   },
   "outputs": [
    {
     "name": "stdout",
     "output_type": "stream",
     "text": [
      "| Valor verdadero |  Valor aproximado | Error verdadero | Error relativo %  |\n",
      "|  0.606530659713 |    0.606530659816 |   1.04219061088 |   171.828182799 % |\n"
     ]
    }
   ],
   "source": [
    "import math\n",
    "n=10\n",
    "n_c=0\n",
    "x=0.5\n",
    "apro=3\n",
    "res=0\n",
    "mostrar=0\n",
    "\n",
    "while n>n_c:\n",
    "    if n_c==0:\n",
    "        aps=1\n",
    "    aps=(x**n_c)/(math.factorial(n_c))\n",
    "    n_c=n_c+1\n",
    "    res=res+aps\n",
    "    mostrar=1/(res)\n",
    "    error_verdadero=math.exp(x)-mostrar\n",
    "    error_relativo_p=(error_verdadero/mostrar)*100\n",
    "    error_tolerado=(0.5*10**(2-apro))\n",
    "    if error_relativo_p<error_tolerado:\n",
    "            break\n",
    "    \n",
    "print '|{0:15} |  {1:15} | {2:15} | {3:15} |'.format(' Valor verdadero','Valor aproximado','Error verdadero','Error relativo % ' )\n",
    "print '|{0:16} |  {1:16} | {2:15} |{3:16} % |'.format(math.exp(-x),mostrar,error_verdadero,error_relativo_p )"
   ]
  },
  {
   "cell_type": "markdown",
   "metadata": {
    "collapsed": true
   },
   "source": [
    "# Ejercicio 3.7"
   ]
  },
  {
   "cell_type": "code",
   "execution_count": 2,
   "metadata": {
    "collapsed": false
   },
   "outputs": [
    {
     "name": "stdout",
     "output_type": "stream",
     "text": [
      "| Valor verdadero |  Valor aproximado | Error verdadero   | Error relativo %    |\n",
      "|        0.743053 |          0.743053 | 9.99200722163e-16 | 1.34472335373e-13 % |\n"
     ]
    }
   ],
   "source": [
    "aprox=0\n",
    "x=1.37\n",
    "ecu1=x**3-7*x**2+8*x+0.35\n",
    "ecu2=((x-7)*x+8)*x+0.35\n",
    "\n",
    "error_verdadero = ecu1-ecu2\n",
    "error_relativo_p = (error_verdadero/ecu1)*100\n",
    "error_tolerado = (0.5*10**(2-aprox))\n",
    "    \n",
    "print'|{0:15} |  {1:15} | {2:17} | {3:19} |'.format(' Valor verdadero','Valor aproximado','Error verdadero','Error relativo % ' )\n",
    "print'|{0:16} |  {1:16} | {2:15} | {3:15} % |'.format(ecu1, ecu2, error_verdadero, error_relativo_p)"
   ]
  },
  {
   "cell_type": "markdown",
   "metadata": {},
   "source": [
    "# Ejercicio 3.9"
   ]
  },
  {
   "cell_type": "code",
   "execution_count": 3,
   "metadata": {
    "collapsed": false
   },
   "outputs": [
    {
     "name": "stdout",
     "output_type": "stream",
     "text": [
      "| Valor verdadero |  Valor aproximado | Error verdadero | Error relativo %  |\n",
      "|  0.995004165278 |               1.0 |  0.105170918076 |   10.5170918076 % |\n"
     ]
    }
   ],
   "source": [
    "import math\n",
    "\n",
    "n=120\n",
    "n_c=0\n",
    "x=0.1\n",
    "apro=0\n",
    "res=0\n",
    "\n",
    "while n>n_c:\n",
    "    \n",
    "    if n_c==0:\n",
    "        aps=1\n",
    "    aps=(x**n_c)/(math.factorial(n_c))\n",
    "    n_c=n_c+1\n",
    "    \n",
    "    res=res+(aps*(-1)**(n_c+1))\n",
    "    error_verdadero=math.exp(x)-res\n",
    "    error_relativo_p=(error_verdadero/res)*100\n",
    "    error_tolerado=(0.5*10**(2-apro))\n",
    "    \n",
    "    if error_relativo_p<error_tolerado:\n",
    "        break\n",
    "    \n",
    "print '|{0:15} |  {1:15} | {2:15} | {3:15} |'.format(' Valor verdadero','Valor aproximado','Error verdadero','Error relativo % ' )\n",
    "print '|{0:16} |{1:18} | {2:15} | {3:15} % |'.format(math.cos(x), res, error_verdadero, error_relativo_p)"
   ]
  }
 ],
 "metadata": {
  "kernelspec": {
   "display_name": "Python 2",
   "language": "python",
   "name": "python2"
  },
  "language_info": {
   "codemirror_mode": {
    "name": "ipython",
    "version": 2
   },
   "file_extension": ".py",
   "mimetype": "text/x-python",
   "name": "python",
   "nbconvert_exporter": "python",
   "pygments_lexer": "ipython2",
   "version": "2.7.11"
  }
 },
 "nbformat": 4,
 "nbformat_minor": 0
}
