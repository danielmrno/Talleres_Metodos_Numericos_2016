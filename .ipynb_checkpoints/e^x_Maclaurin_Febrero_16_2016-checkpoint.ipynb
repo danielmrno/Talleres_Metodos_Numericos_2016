{
 "cells": [
  {
   "cell_type": "markdown",
   "metadata": {},
   "source": [
    "# e^x donde x=1/2 por serie de Maclaurin"
   ]
  },
  {
   "cell_type": "code",
   "execution_count": null,
   "metadata": {
    "collapsed": false
   },
   "outputs": [],
   "source": [
    "import math\n",
    "n=3\n",
    "es=0.5*(10**(2-n))\n",
    "x=0.5\n",
    "aux=0\n",
    "termino=1\n",
    "verdadero=math.exp(x)\n",
    "ant=-1\n",
    "ea=100\n",
    "valor=0\n",
    "print \"Termino   e^x aprox   Et             Ea\"\n",
    "def f(x):\n",
    "    return (x**aux)/(math.factorial(aux))\n",
    "while (ea>=es):\n",
    "    valor+=f(x)\n",
    "    et=((verdadero-valor)/valor)*100\n",
    "    if(ant<0):\n",
    "        ea=\"xxxxx\"\n",
    "    if(ant>=0):\n",
    "        ea=((valor-ant)/valor)*100\n",
    "    ant=valor\n",
    "    print \"   \",termino,\"    \", valor,\"      \",et,\"    \",ea\n",
    "    aux+=1\n",
    "    termino+=1\n",
    "\n"
   ]
  }
 ],
 "metadata": {
  "kernelspec": {
   "display_name": "Python 2",
   "language": "python",
   "name": "python2"
  },
  "language_info": {
   "codemirror_mode": {
    "name": "ipython",
    "version": 2
   },
   "file_extension": ".py",
   "mimetype": "text/x-python",
   "name": "python",
   "nbconvert_exporter": "python",
   "pygments_lexer": "ipython2",
   "version": "2.7.10"
  }
 },
 "nbformat": 4,
 "nbformat_minor": 0
}
