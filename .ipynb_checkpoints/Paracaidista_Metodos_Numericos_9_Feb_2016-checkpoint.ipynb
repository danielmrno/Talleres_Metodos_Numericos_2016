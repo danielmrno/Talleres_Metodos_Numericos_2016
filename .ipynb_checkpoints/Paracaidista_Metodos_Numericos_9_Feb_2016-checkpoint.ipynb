{
 "cells": [
  {
   "cell_type": "code",
   "execution_count": 1,
   "metadata": {
    "collapsed": false
   },
   "outputs": [
    {
     "name": "stdout",
     "output_type": "stream",
     "text": [
      "t     Analitica     Metodos\n",
      "0   0.0   0\n",
      "2   16.4049808029   19.6\n",
      "4   27.7692914639   32.0046989721\n",
      "6   35.6417515631   39.855543696\n",
      "8   41.0952832258   44.8242868326\n",
      "10   44.8731375713   47.9689686121\n",
      "12   47.4901909486   49.9592150834\n",
      "14   49.3031164225   51.2188277547\n",
      "16   50.5589940452   52.0160275511\n",
      "18   51.4289849112   52.5205695661\n",
      "20   52.0316583671   52.8398905771\n",
      "22   52.4491515944   53.0419865473\n",
      "24   52.7383639252   53.1698916327\n",
      "26   52.9387115399   53.250841841\n",
      "28   53.0774994216   53.3020746453\n",
      "30   53.1736426979   53.3344995186\n",
      "32   53.2402445473   53.3550209875\n",
      "34   53.286382005   53.3680088776\n"
     ]
    }
   ],
   "source": [
    "import math\n",
    "import numpy as np\n",
    "import pylab as pl\n",
    "valoresx1 = []\n",
    "valoresy1 = []\n",
    "valoresx = []\n",
    "valoresy = []\n",
    "\n",
    "g=9.8\n",
    "t=0\n",
    "m=68.1\n",
    "c=12.5\n",
    "print \"t     Analitica     Metodos\"\n",
    "def v(t):\n",
    "    return ((g*m/c)*(1-math.exp(-(c/m)*t)))\n",
    "while (t<35):\n",
    "    valoresx1.append(t)\n",
    "    valoresy1.append(v(t))\n",
    "    t=t+1\n",
    "ti=0\n",
    "aux=2\n",
    "ti1=ti+aux\n",
    "vt=0\n",
    "def vmn(ti,ti1):\n",
    "    return vt+(g-(c/m)*vt)*(ti1-ti)\n",
    "while (ti<35):\n",
    "    valoresx.append(ti)\n",
    "    valoresy.append(vt)\n",
    "    print ti,\" \",v(ti),\" \",vt\n",
    "    vt=vmn(ti,ti1)\n",
    "    ti=ti+aux\n",
    "    ti1+=aux\n",
    "    \n",
    "\n",
    "f1=  pl.plot(valoresx1,valoresy1,\"g\")\n",
    "f2=  pl.plot(valoresx,valoresy,'.')\n",
    "\n",
    "\n",
    "pl.title(\"Paracaidista\")\n",
    "pl.xlabel(\"x\")\n",
    "pl.ylabel(\"y\")\n",
    "f=[\"Solucion Analitica\",\"Solucion metodos Numericos\"]\n",
    "pl.legend(f,loc=4)\n",
    "pl.xlim(0, 35)\n",
    "pl.ylim(0, 60)\n",
    "pl.grid(True)\n",
    "\n",
    "pl.show()"
   ]
  },
  {
   "cell_type": "code",
   "execution_count": null,
   "metadata": {
    "collapsed": true
   },
   "outputs": [],
   "source": []
  }
 ],
 "metadata": {
  "kernelspec": {
   "display_name": "Python 2",
   "language": "python",
   "name": "python2"
  },
  "language_info": {
   "codemirror_mode": {
    "name": "ipython",
    "version": 2
   },
   "file_extension": ".py",
   "mimetype": "text/x-python",
   "name": "python",
   "nbconvert_exporter": "python",
   "pygments_lexer": "ipython2",
   "version": "2.7.10"
  }
 },
 "nbformat": 4,
 "nbformat_minor": 0
}
