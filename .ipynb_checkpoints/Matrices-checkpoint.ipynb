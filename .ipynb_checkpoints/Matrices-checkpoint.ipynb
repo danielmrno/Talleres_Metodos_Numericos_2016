{
 "cells": [
  {
   "cell_type": "markdown",
   "metadata": {},
   "source": [
    "# Transpuesta 9.1"
   ]
  },
  {
   "cell_type": "code",
   "execution_count": 1,
   "metadata": {
    "collapsed": false
   },
   "outputs": [
    {
     "name": "stdout",
     "output_type": "stream",
     "text": [
      "Original\n",
      "[0, 3, 4]\n",
      "[6, 1, 9]\n",
      "[2, 7, 8]\n",
      "TRANSPUESTA\n",
      "[0, 6, 2]\n",
      "[3, 1, 7]\n",
      "[4, 9, 8]\n"
     ]
    }
   ],
   "source": [
    "matriz = [[0,3,4],[6,1,9],[2,7,8]]\n",
    "def print_r(matriz):\n",
    "    for fila in matriz:\n",
    "        print fila\n",
    "def transpuesta(matriz):\n",
    "    rows = len(matriz)\n",
    "    cols = len(matriz[0])\n",
    "    return [[matriz[j][i] for j in xrange(rows)] for i in xrange(cols)]\n",
    " \n",
    "print \"Original\"\n",
    "print_r(matriz)\n",
    "print \"TRANSPUESTA\"\n",
    "print_r(transpuesta(matriz))"
   ]
  },
  {
   "cell_type": "markdown",
   "metadata": {},
   "source": [
    "# 9.2"
   ]
  },
  {
   "cell_type": "code",
   "execution_count": 2,
   "metadata": {
    "collapsed": false
   },
   "outputs": [
    {
     "name": "stdout",
     "output_type": "stream",
     "text": [
      "1) La suma de las matrices E+B es: \n",
      "[[5, 8, 15], [8, 4, 10], [5, 0, 10]]\n",
      "\n",
      "2) La suma de las matrices A+F no se puede realizar porque no tienen la misma dimension mxn\n",
      "\n",
      "3) La resta de las matrices B-E es: \n",
      "[[3, -2, -1], [-6, 0, 4], [-3, 0, -2]]\n",
      "\n",
      "4) Al multiplicar [B] por el escalar 7, tenemos: \n",
      "[[28, 21, 49], [7, 14, 49], [7, 0, 28]]\n",
      "\n",
      "5)El producto entre las matrices ExB es: \n",
      "[[17, 13, 74], [33, 25, 75], [22, 12, 52]]\n",
      "\n",
      "6) La transpuesta de {C} es: \n",
      "[[3, 6, 1]]\n",
      "\n",
      "7)El producto entre las matrices BxA es: \n",
      "[[54, 76], [41, 53], [24, 31]]\n",
      "\n",
      "8)La transpuesta de [D] es: \n",
      "[[9, 2], [4, -1], [3, 7], [-6, 5]]\n",
      "\n",
      "9) El producto [A]x{C} no se puede realizar porque el numero de columnas de A, \n",
      "NO coincide con el numero de filas de C\n",
      "\n",
      "10) El producto de [I]x[B] es: \n",
      "[[4, 3, 7], [1, 2, 7], [1, 0, 4]]\n",
      "\n",
      "11) El producto de [E]^T x [E] es: \n",
      "[[66, 19, 53], [19, 29, 46], [53, 46, 109]]\n",
      "\n",
      "12) El producto de {C}^T x {C} es: \n",
      "[[46]]\n"
     ]
    }
   ],
   "source": [
    "A=[[4,7],[1,2],[5,6]]\n",
    "B=[[4,3,7],[1,2,7],[1,0,4]]\n",
    "C=[[3],[6],[1]]\n",
    "D=[[9,4,3,-6],[2,-1,7,5]]\n",
    "E=[[1,5,8],[7,2,3],[4,0,6]]\n",
    "F=[[3,0,1],[1,7,3]]\n",
    "G=[7,6,4]\n",
    "I=[[1,0,0],[0,1,0],[0,0,1]]\n",
    "\n",
    "#1)[E]+[B]\n",
    "sumaEB=[]\n",
    "for i in range(3):#filas\n",
    "    sumaEB.append([])\n",
    "    for j in range(3):#columnas\n",
    "        sumaEB[i].append(E[i][j]+B[i][j])\n",
    "\n",
    "print \"1) La suma de las matrices E+B es: \"\n",
    "print sumaEB\n",
    "\n",
    "#2)[A]+[F]\n",
    "print \"\\n2) La suma de las matrices A+F no se puede realizar porque no tienen la misma dimension mxn\"\n",
    "\n",
    "#3)[B]-[E]\n",
    "restaBE=[]\n",
    "for i in range(3):#filas\n",
    "    restaBE.append([])\n",
    "    for j in range(3):#columnas\n",
    "         restaBE[i].append(B[i][j]-E[i][j])\n",
    "\n",
    "print \"\\n3) La resta de las matrices B-E es: \"\n",
    "print restaBE\n",
    "\n",
    "#4)7x[B]\n",
    "escalar=[]\n",
    "for i in range(3):#filas\n",
    "    escalar.append([])\n",
    "    for j in range(3):#columnas\n",
    "         escalar[i].append(7*B[i][j])\n",
    "\n",
    "print \"\\n4) Al multiplicar [B] por el escalar 7, tenemos: \"\n",
    "print escalar\n",
    "\n",
    "def multiplicacion(a,b):\n",
    "    product=[]\n",
    "    for i in range(len(a)):\n",
    "        product.append([0]*(len(b[0])))\n",
    "    for i in range(len(a)):\n",
    "        for j in range(len(b[0])):\n",
    "            for k in range(len(a[0])):\n",
    "                product[i][j]+= a[i][k]*b[k][j]\n",
    "    return product\n",
    "\n",
    "def transpuesta(a):\n",
    "    trans=[]\n",
    "    for i in range(len(a[0])):\n",
    "        trans.append(len(a)*[0])\n",
    "        for j in range(len(trans[0])):\n",
    "            for k in range(len(trans)):\n",
    "                trans[k][j]=a[j][k]\n",
    "    return trans\n",
    "#5[E]x[B]\n",
    "print \"\\n5)El producto entre las matrices ExB es: \"\n",
    "print multiplicacion(E,B)\n",
    "\n",
    "#6){C}^T\n",
    "print \"\\n6) La transpuesta de {C} es: \"\n",
    "print transpuesta(C)\n",
    "\n",
    "#7) [B]x[A]\n",
    "print \"\\n7)El producto entre las matrices BxA es: \"\n",
    "print multiplicacion(B,A)\n",
    "\n",
    "#8)[D]^T\n",
    "print \"\\n8)La transpuesta de [D] es: \"        \n",
    "print transpuesta(D)\n",
    "\n",
    "#9)[A]x{C}\n",
    "print \"\\n9) El producto [A]x{C} no se puede realizar porque el numero de columnas de A, \\nNO coincide con el numero de filas de C\"\n",
    "\n",
    "#10)[F]x[B]\n",
    "print \"\\n10) El producto de [I]x[B] es: \"            \n",
    "print multiplicacion(I,B)\n",
    "\n",
    "#11)[E]^T x [E] --> transpuesta de la matriz E por la matriz E           \n",
    "print \"\\n11) El producto de [E]^T x [E] es: \"\n",
    "print multiplicacion(transpuesta(E),E)\n",
    "\n",
    "#12) {C}^T x {C}--> producto de la transpuesta de la matriz C por la matriz C\n",
    "print \"\\n12) El producto de {C}^T x {C} es: \"\n",
    "print multiplicacion(transpuesta(C),C)"
   ]
  },
  {
   "cell_type": "markdown",
   "metadata": {},
   "source": [
    "# 9.3"
   ]
  },
  {
   "cell_type": "code",
   "execution_count": 5,
   "metadata": {
    "collapsed": false
   },
   "outputs": [
    {
     "name": "stdout",
     "output_type": "stream",
     "text": [
      "\n",
      "a)\n",
      "[A]x[B]:   [[4.0, 15], [8.0, 29], [9.0, 29]]\n",
      "\n",
      "[A]x[C]:   [[-16, 4], [-24, 4], [2, -10]]\n",
      "\n",
      "[B]x[C]:   [[-7, 1], [-5.0, 1.0]]\n",
      "\n",
      "[C]x[B] es:[[1.0, 2], [-2.5, -7]]\n",
      "\n",
      "b)\n",
      "*La multiplicacion [B]x[A]: \n",
      "No se pueden multiplicar.\n",
      "\n",
      "   *La multiplicacion [C]x[A]: \n",
      "No se pueden multiplicar.\n",
      "\n",
      "c) [B]x[C] NO es igual a [C]x[B] por o tanto no cumple la p conmutativa\n"
     ]
    }
   ],
   "source": [
    "A=[[1,6],[3,10],[7,4]]\n",
    "B=[[1,3],[0.5, 2]]\n",
    "C=[[2,-2],[-3,1]]\n",
    "\n",
    "def verificar(matriz1,matriz2):\n",
    "    if(len(matriz1[0])!=len(matriz2)):\n",
    "        print \"No se pueden multiplicar.\"\n",
    "    if(len(matriz1[0])==len(matriz2)):\n",
    "        resultado=mult(matriz1,matriz2)\n",
    "        return resultado\n",
    "def mult(a,b):\n",
    "    producto=[]\n",
    "    for i in range(len(a)):\n",
    "        producto.append([0]*(len(b[0])))\n",
    "    for i in range(len(a)):\n",
    "        for j in range(len(b[0])):\n",
    "            for k in range(len(a[0])):\n",
    "                producto[i][j]+= a[i][k]*b[k][j]\n",
    "    return producto\n",
    "\n",
    "\n",
    "print \"\\na)\\n[A]x[B]:   \"+str(verificar(A,B))\n",
    "print \"\\n[A]x[C]:   \"+str(verificar(A,C))\n",
    "print \"\\n[B]x[C]:   \"+str(verificar(B,C))\n",
    "print \"\\n[C]x[B] es:\"+str(verificar(C,B))\n",
    "\n",
    "print \"\\nb)\\n*La multiplicacion [B]x[A]: \"\n",
    "verificar(B,A)\n",
    "print \"\\n   *La multiplicacion [C]x[A]: \"\n",
    "verificar(C,A)\n",
    "print \"\\nc) [B]x[C] NO es igual a [C]x[B] por o tanto no cumple la p conmutativa\""
   ]
  },
  {
   "cell_type": "markdown",
   "metadata": {},
   "source": [
    "# 9.8"
   ]
  },
  {
   "cell_type": "code",
   "execution_count": 7,
   "metadata": {
    "collapsed": false
   },
   "outputs": [
    {
     "name": "stdout",
     "output_type": "stream",
     "text": [
      "a) Gauss simple:\n",
      " \n",
      "X1 es 38.5\n",
      "X2 es -68.3\n",
      "X3 es -21.5\n",
      "\n",
      "b) Sustitucion de los valores:\n",
      " \n",
      "Ec 1  270.0\n",
      "Ec 2  251.1\n",
      "Ec 3  -137.264814815\n"
     ]
    }
   ],
   "source": [
    "# matrizCoef=[[10.0,2.0,-1.0],[-3.0,-6.0, 2.0],[1.0,1.0,5.0]]\n",
    "sol=[27.0,-61.5,-21.5]\n",
    "x,d,y,i,j,k=[],0.0,0.0,0,0,0\n",
    "n=len(matrizCoef)\n",
    "\n",
    "for m in range (len(matrizCoef)):\n",
    "    x.append(0*len(matrizCoef[0]))\n",
    "\n",
    "print \"a) Gauss simple:\\n \"\n",
    "\n",
    "for i in range(0,n):\n",
    "    for j in range(i,n):\n",
    "        if(i==j):\n",
    "            d=matrizCoef[i][j]\n",
    "            for s in range (0,n):\n",
    "                matrizCoef[i][s]=((matrizCoef[i][s])/d)\n",
    "            sol[i]=((sol[i])/d)\n",
    "        else:\n",
    "            d=matrizCoef[j][i]\n",
    "            for s in range (0,n):\n",
    "                matrizCoef[j][s]=matrizCoef[j][s]-(d*matrizCoef[i][s])\n",
    "            sol[j]=sol[j]-(d*sol[i])\n",
    "i=n-1\n",
    "j=n-1\n",
    "\n",
    "while(i>=0):\n",
    "    y=sol[i]\n",
    "    while(j>=i):\n",
    "        y=y-x[j]*matrizCoef[i][j]\n",
    "        j-=1\n",
    "    x[i]=y\n",
    "    i-=1\n",
    "    j=n-1\n",
    "for i in range (0,n):\n",
    "    k=i+1\n",
    "    print \"X%d es %.1f\"%(k,x[i])\n",
    "    \n",
    "print \"\\nb) Sustitucion de los valores:\\n \"\n",
    "ecuacionA=10*x[0]+2*x[1]-x[2]\n",
    "ecuacionB=-3*x[0]-6*x[1]+2*x[2]\n",
    "ecuacionC=x[0]+x[1]+5*x[2]\n",
    "\n",
    "print \"Ec 1 \",ecuacionA\n",
    "print \"Ec 2 \",ecuacionB\n",
    "print \"Ec 3 \",ecuacionC"
   ]
  },
  {
   "cell_type": "markdown",
   "metadata": {},
   "source": [
    "# 9.9"
   ]
  },
  {
   "cell_type": "code",
   "execution_count": 8,
   "metadata": {
    "collapsed": false
   },
   "outputs": [
    {
     "name": "stdout",
     "output_type": "stream",
     "text": [
      "X1 = 1.5\n",
      "X2 = -6.5\n",
      "X3 = 0.5\n",
      "\n",
      "Satisface la primera ecuacion\n",
      "Satisface la segunda ecuacion\n",
      "Satisface la tercera ecuacion\n"
     ]
    }
   ],
   "source": [
    "m,b,x,n,det,factor,tol,s,er = [[8.0,2.0,-2.0],[10.0,2.0,4.0],[12.0,2.0,2.0 ]],[-2.0,4.0,6.0],[],3,1.0,0.0,0.0,[],0.0\n",
    "\n",
    "for z in range(0,n):\n",
    "    x.append(n*0.0)\n",
    "    s.append(n*0.0)\n",
    "        \n",
    "def eliminate(m,s,n,b,tol,er):\n",
    "    for k in range(0,n):\n",
    "        pivot(m,b,s,n,k)\n",
    "        if (abs(m[k][k]/s[k])<tol):\n",
    "            er=-1\n",
    "        for i in range(k+1,n):\n",
    "            factor = m[i][k]/m[k][k]\n",
    "            for j in range (k+1,n):\n",
    "                m[i][j]=m[i][j]-factor*m[k][j]\n",
    "            b[i]=b[i]-factor*b[k]\n",
    "    \n",
    "    if (abs(m[k][k]/s[k])<tol):\n",
    "        er=-1\n",
    "        \n",
    "def pivot(m,b,s,n,k):\n",
    "    p,k=0,0\n",
    "    p=k\n",
    "    big = abs(m[k][k]/s[k])\n",
    "    for i in range(k+1,n):\n",
    "        dummy = abs(m[i][k]/s[i])\n",
    "        if (dummy>big):\n",
    "            big=dummy\n",
    "            p=i\n",
    "    if (p!=k):\n",
    "        for j in range(k,n):\n",
    "            dummy=m[p][j]\n",
    "            m[p][j]=m[k][j]\n",
    "            m[k][j]=dummy\n",
    "        dummy=b[p]\n",
    "        b[p]=b[k]\n",
    "        b[k]=dummy\n",
    "        dummy=s[p]\n",
    "        s[p]=s[k]\n",
    "        s[k]=dummy\n",
    "    \n",
    "def substitute(m,n,b,x):\n",
    "    x[n-1]=b[n-1]/m[n-1][n-1]\n",
    "    i=n-1\n",
    "    while (i>=0):\n",
    "        suma = 0\n",
    "        for j in range(i+1,n):\n",
    "            suma=suma+x[j]*m[i][j]\n",
    "        x[i]=(b[i]-suma)/m[i][i]\n",
    "        i -= 1\n",
    "    for i in range(0,n):\n",
    "        k=i+1\n",
    "        print \"X%d = %.1f\"%(k,x[i])\n",
    "\n",
    "def gauss(m,b,n,x,tol,er):\n",
    "    for i in range(0,n):\n",
    "        s[i]=abs(m[i][1])\n",
    "        for j in range(1,n):\n",
    "            if (abs(m[i][j])>s[i]):\n",
    "                s[i]=abs(m[i][j])\n",
    "    eliminate(m,s,n,b,tol,er)\n",
    "    if (er!=-1):\n",
    "        substitute(m,n,b,x)\n",
    "\n",
    "\n",
    "def verificar():\n",
    "\n",
    "    x1,x2,x3 = x[0],x[1],x[2]\n",
    "    ecuacion1=8*x1 + 2*x2 - 2*x3\n",
    "    ecuacion2=10*x1 + 2*x2 + 4*x3\n",
    "    ecuacion3=12*x1 + 2*x2 + 2*x3\n",
    "    if (round(ecuacion1)==-2):\n",
    "        print (\"\\nSatisface la primera ecuacion\")\n",
    "    if(round(ecuacion2)==4):\n",
    "        print (\"Satisface la segunda ecuacion\")\n",
    "    if(round(ecuacion3)==6):\n",
    "        print (\"Satisface la tercera ecuacion\")\n",
    "        \n",
    "gauss(m,b,n,x,tol,er)\n",
    "verificar()"
   ]
  },
  {
   "cell_type": "markdown",
   "metadata": {},
   "source": [
    "# 9.12"
   ]
  },
  {
   "cell_type": "code",
   "execution_count": 9,
   "metadata": {
    "collapsed": false
   },
   "outputs": [
    {
     "name": "stdout",
     "output_type": "stream",
     "text": [
      "La variable X1 es: 14\n",
      "La variable X2 es: -32\n",
      "La variable X3 es: -5\n",
      "Satisface la ecuacion 1, su resultado es:  1.0\n",
      "Satisface la ecuacion 2, su resultado es:  -4.0\n",
      "Satisface la ecuacion 3, su resultado es:  5.0\n"
     ]
    }
   ],
   "source": [
    "var,piv,matriz = 0,0,[[2.0,1.0,-1.0,1.0],[5.0,2.0,2.0,-4.0],[3.0,1.0,1.0,5.0]]\n",
    "\n",
    "var = len(matriz[0])-1\n",
    "    \n",
    "def cambiar(matriz,piv,var):\n",
    "    temp=0.0\n",
    "    temp=matriz[piv][piv]\n",
    "    for y in range(0,var+1):\n",
    "        matriz[piv][y]=matriz[piv][y]/temp\n",
    "        \n",
    "def ceros(matriz,piv,var):\n",
    "    for x in range(0,var):\n",
    "        if (x!=piv):\n",
    "            c = matriz[x][piv]\n",
    "            for z in range(0,var+1):\n",
    "                matriz[x][z]=((-1*c)*matriz[piv][z])+matriz[x][z]\n",
    "                \n",
    "for a in range(0,var):\n",
    "    cambiar(matriz,piv,var)\n",
    "    ceros(matriz,piv,var)\n",
    "    piv += 1\n",
    "for x in range(0,var):\n",
    "    print \"La variable X%d es: %d\"%(x+1,matriz[x][var])\n",
    "    \n",
    "ecuacion1=2*matriz[0][3]+matriz[1][3]-matriz[2][3]\n",
    "ecuacion2=5*matriz[0][3]+2*matriz[1][3]+2*matriz[2][3]\n",
    "ecuacion3=3*matriz[0][3]+matriz[1][3]+matriz[2][3]\n",
    "print \"Satisface la ecuacion 1, su resultado es: \", ecuacion1\n",
    "print \"Satisface la ecuacion 2, su resultado es: \", ecuacion2\n",
    "print \"Satisface la ecuacion 3, su resultado es: \", ecuacion3"
   ]
  },
  {
   "cell_type": "code",
   "execution_count": null,
   "metadata": {
    "collapsed": true
   },
   "outputs": [],
   "source": []
  }
 ],
 "metadata": {
  "kernelspec": {
   "display_name": "Python 2",
   "language": "python",
   "name": "python2"
  },
  "language_info": {
   "codemirror_mode": {
    "name": "ipython",
    "version": 2
   },
   "file_extension": ".py",
   "mimetype": "text/x-python",
   "name": "python",
   "nbconvert_exporter": "python",
   "pygments_lexer": "ipython2",
   "version": "2.7.11"
  }
 },
 "nbformat": 4,
 "nbformat_minor": 0
}
