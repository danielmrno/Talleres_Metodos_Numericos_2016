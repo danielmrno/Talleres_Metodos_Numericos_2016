{
 "cells": [
  {
   "cell_type": "code",
   "execution_count": 5,
   "metadata": {
    "collapsed": false
   },
   "outputs": [
    {
     "name": "stdout",
     "output_type": "stream",
     "text": [
      "Lineal\n",
      "0.462098120373\n",
      "Cuadratica\n",
      "0.565844346901\n"
     ]
    }
   ],
   "source": [
    "import math\n",
    "import numpy as np\n",
    "import pylab as pl\n",
    "valoresx1 = []\n",
    "valoresy1 = []\n",
    "valoresx = []\n",
    "valoresy = []\n",
    "valoresx2=[]\n",
    "valoresy2=[]\n",
    "valoresx3=[]\n",
    "valoresy3=[]\n",
    "\n",
    "x0=1.0\n",
    "x1=4.0\n",
    "x2=6.0\n",
    "x=2.0\n",
    "\n",
    "def fx1(x):\n",
    "        return math.log(x)\n",
    "def fix(x0,x1,x2,x):\n",
    "    return (((x-x1)/(x0-x1))*fx1(x0))+(((x-x0)/(x1-x0))*fx1(x1))\n",
    "\n",
    "def fix2(x0,x1,x2,x):\n",
    "    return ((((x-x1)*(x-x2))/((x0-x1)*(x0-x2)))*fx1(x0))+((((x-x0)*(x-x2))/((x1-x0)*(x1-x2)))*fx1(x1))+((((x-x0)*(x-x1))/((x2-x0)*(x2-x1)))*fx1(x2))\n",
    "\n",
    "y1=0.0\n",
    "y1=fix(x0,x1,x2,x)\n",
    "y2=fix2(x0,x1,x2,x)\n",
    "valoresx1.append(x)\n",
    "valoresy1.append(y1)\n",
    "valoresx3.append(x)\n",
    "valoresy3.append(y2)\n",
    "print \"Lineal\"\n",
    "print y1\n",
    "print \"Cuadratica\"\n",
    "print y2\n",
    "\n",
    "valoresx.append(x0)\n",
    "valoresy.append(0)\n",
    "y=fx1(x1)\n",
    "valoresx.append(x1)\n",
    "valoresy.append(y)\n",
    "\n",
    "\n",
    "while (x0<=x1):\n",
    "    y1=fx1(x0)\n",
    "    valoresx2.append(x0)\n",
    "    valoresy2.append(y1)\n",
    "    x=x0\n",
    "    x0+=0.00001\n",
    "\n",
    "\n",
    "f1=  pl.plot(valoresx1,valoresy1, '.')\n",
    "f2=  pl.plot(valoresx,valoresy,\"r\")\n",
    "f3=  pl.plot(valoresx2,valoresy2, \"g\")\n",
    "f4=  pl.plot(valoresx3,valoresy3, '.')\n",
    "\n",
    "\n",
    "pl.title(\"Interpolacion Lagrange\")\n",
    "pl.xlabel(\"x\")\n",
    "pl.ylabel(\"y\")\n",
    "f=[\"puntos f(x)\",\"Interpolacion Lineal\",\"Real\"]\n",
    "pl.legend(f,loc=4)\n",
    "\n",
    "\n",
    "pl.xlim(0, 7)\n",
    "pl.ylim(0, 2.5)\n",
    "pl.grid(True)\n",
    "\n",
    "pl.show()"
   ]
  },
  {
   "cell_type": "code",
   "execution_count": null,
   "metadata": {
    "collapsed": true
   },
   "outputs": [],
   "source": []
  },
  {
   "cell_type": "code",
   "execution_count": null,
   "metadata": {
    "collapsed": true
   },
   "outputs": [],
   "source": []
  }
 ],
 "metadata": {
  "kernelspec": {
   "display_name": "Python 2",
   "language": "python",
   "name": "python2"
  },
  "language_info": {
   "codemirror_mode": {
    "name": "ipython",
    "version": 2
   },
   "file_extension": ".py",
   "mimetype": "text/x-python",
   "name": "python",
   "nbconvert_exporter": "python",
   "pygments_lexer": "ipython2",
   "version": "2.7.11"
  }
 },
 "nbformat": 4,
 "nbformat_minor": 0
}
